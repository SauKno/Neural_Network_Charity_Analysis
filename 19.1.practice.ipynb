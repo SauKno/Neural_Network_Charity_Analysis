{
 "cells": [
  {
   "cell_type": "code",
   "execution_count": 2,
   "id": "854ca101",
   "metadata": {},
   "outputs": [],
   "source": [
    "# Import our dependencies\n",
    "import pandas as pd\n",
    "import matplotlib as plt\n",
    "from sklearn.datasets import make_blobs\n",
    "import sklearn as skl\n",
    "import tensorflow as tf"
   ]
  },
  {
   "cell_type": "code",
   "execution_count": 3,
   "id": "49fbde71",
   "metadata": {},
   "outputs": [
    {
     "data": {
      "text/plain": [
       "<AxesSubplot:xlabel='Feature 1', ylabel='Feature 2'>"
      ]
     },
     "execution_count": 3,
     "metadata": {},
     "output_type": "execute_result"
    },
    {
     "data": {
      "image/png": "[encoded data removed]",
      "text/plain": [
       "<Figure size 432x288 with 2 Axes>"
      ]
     },
     "metadata": {
      "needs_background": "light"
     },
     "output_type": "display_data"
    }
   ],
   "source": [
    "# Generate dummy dataset\n",
    "X, y = make_blobs(n_samples=1000, centers=2, n_features=2, random_state=78)\n",
    "\n",
    "# Creating a DataFrame with the dummy data\n",
    "df = pd.DataFrame(X, columns=[\"Feature 1\", \"Feature 2\"])\n",
    "df[\"Target\"] = y\n",
    "\n",
    "# Plotting the dummy data\n",
    "df.plot.scatter(x=\"Feature 1\", y=\"Feature 2\", c=\"Target\", colormap=\"winter\")"
   ]
  },
  {
   "cell_type": "code",
   "execution_count": 4,
   "id": "5fd8cd11",
   "metadata": {},
   "outputs": [],
   "source": [
    "# Use sklearn to split dataset\n",
    "from sklearn.model_selection import train_test_split\n",
    "X_train, X_test, y_train, y_test = train_test_split(X, y, random_state=78)\n"
   ]
  },
  {
   "cell_type": "code",
   "execution_count": 5,
   "id": "36a661a4",
   "metadata": {},
   "outputs": [],
   "source": [
    "# Create scaler instance\n",
    "X_scaler = skl.preprocessing.StandardScaler()\n",
    "\n",
    "# Fit the scaler\n",
    "X_scaler.fit(X_train)\n",
    "\n",
    "# Scale the data\n",
    "X_train_scaled = X_scaler.transform(X_train)\n",
    "X_test_scaled = X_scaler.transform(X_test)"
   ]
  },
  {
   "cell_type": "code",
   "execution_count": 6,
   "id": "d2ecd661",
   "metadata": {},
   "outputs": [],
   "source": [
    "# Create the Keras Sequential model\n",
    "nn_model = tf.keras.models.Sequential()"
   ]
  },
  {
   "cell_type": "code",
   "execution_count": 7,
   "id": "941402d2",
   "metadata": {},
   "outputs": [
    {
     "name": "stderr",
     "output_type": "stream",
     "text": [
      "2022-04-25 13:08:24.211341: I tensorflow/core/platform/cpu_feature_guard.cc:145] This TensorFlow binary is optimized with Intel(R) MKL-DNN to use the following CPU instructions in performance critical operations:  SSE4.1 SSE4.2\n",
      "To enable them in non-MKL-DNN operations, rebuild TensorFlow with the appropriate compiler flags.\n",
      "2022-04-25 13:08:24.212318: I tensorflow/core/common_runtime/process_util.cc:115] Creating new thread pool with default inter op setting: 8. Tune using inter_op_parallelism_threads for best performance.\n"
     ]
    }
   ],
   "source": [
    "# Add our first Dense layer, including the input layer\n",
    "nn_model.add(tf.keras.layers.Dense(units=1, activation=\"relu\", input_dim=2))"
   ]
  },
  {
   "cell_type": "code",
   "execution_count": 8,
   "id": "bafef8b7",
   "metadata": {},
   "outputs": [],
   "source": [
    "# Add the output layer that uses a probability activation function\n",
    "nn_model.add(tf.keras.layers.Dense(units=1, activation=\"sigmoid\"))"
   ]
  },
  {
   "cell_type": "code",
   "execution_count": 9,
   "id": "1c332eae",
   "metadata": {},
   "outputs": [
    {
     "name": "stdout",
     "output_type": "stream",
     "text": [
      "Model: \"sequential\"\n",
      "_________________________________________________________________\n",
      "Layer (type)                 Output Shape              Param #   \n",
      "=================================================================\n",
      "dense (Dense)                (None, 1)                 3         \n",
      "_________________________________________________________________\n",
      "dense_1 (Dense)              (None, 1)                 2         \n",
      "=================================================================\n",
      "Total params: 5\n",
      "Trainable params: 5\n",
      "Non-trainable params: 0\n",
      "_________________________________________________________________\n"
     ]
    }
   ],
   "source": [
    "# Check the structure of the Sequential model\n",
    "nn_model.summary()"
   ]
  },
  {
   "cell_type": "code",
   "execution_count": 10,
   "id": "9a569f23",
   "metadata": {},
   "outputs": [],
   "source": [
    "# Compile the Sequential model together and customize metrics\n",
    "nn_model.compile(loss=\"binary_crossentropy\", optimizer=\"adam\", metrics=[\"accuracy\"])"
   ]
  },
  {
   "cell_type": "code",
   "execution_count": 11,
   "id": "b722256b",
   "metadata": {},
   "outputs": [
    {
     "name": "stdout",
     "output_type": "stream",
     "text": [
      "Train on 750 samples\n",
      "Epoch 1/100\n",
      "750/750 [==============================] - 1s 786us/sample - loss: 0.7106 - accuracy: 0.4667\n",
      "Epoch 2/100\n",
      "750/750 [==============================] - 0s 46us/sample - loss: 0.7021 - accuracy: 0.4840\n",
      "Epoch 3/100\n",
      "750/750 [==============================] - 0s 37us/sample - loss: 0.6948 - accuracy: 0.5053\n",
      "Epoch 4/100\n",
      "750/750 [==============================] - 0s 40us/sample - loss: 0.6882 - accuracy: 0.5307\n",
      "Epoch 5/100\n",
      "750/750 [==============================] - 0s 36us/sample - loss: 0.6825 - accuracy: 0.5587\n",
      "Epoch 6/100\n",
      "750/750 [==============================] - 0s 38us/sample - loss: 0.6772 - accuracy: 0.5720\n",
      "Epoch 7/100\n",
      "750/750 [==============================] - 0s 37us/sample - loss: 0.6719 - accuracy: 0.5867\n",
      "Epoch 8/100\n",
      "750/750 [==============================] - 0s 38us/sample - loss: 0.6665 - accuracy: 0.6093\n",
      "Epoch 9/100\n",
      "750/750 [==============================] - 0s 42us/sample - loss: 0.6606 - accuracy: 0.6480\n",
      "Epoch 10/100\n",
      "750/750 [==============================] - 0s 41us/sample - loss: 0.6534 - accuracy: 0.6667\n",
      "Epoch 11/100\n",
      "750/750 [==============================] - 0s 40us/sample - loss: 0.6452 - accuracy: 0.6987\n",
      "Epoch 12/100\n",
      "750/750 [==============================] - 0s 39us/sample - loss: 0.6359 - accuracy: 0.7267\n",
      "Epoch 13/100\n",
      "750/750 [==============================] - 0s 43us/sample - loss: 0.6250 - accuracy: 0.7520\n",
      "Epoch 14/100\n",
      "750/750 [==============================] - 0s 43us/sample - loss: 0.6131 - accuracy: 0.7800\n",
      "Epoch 15/100\n",
      "750/750 [==============================] - 0s 44us/sample - loss: 0.5996 - accuracy: 0.8080\n",
      "Epoch 16/100\n",
      "750/750 [==============================] - 0s 42us/sample - loss: 0.5840 - accuracy: 0.8333\n",
      "Epoch 17/100\n",
      "750/750 [==============================] - 0s 41us/sample - loss: 0.5655 - accuracy: 0.8693\n",
      "Epoch 18/100\n",
      "750/750 [==============================] - 0s 40us/sample - loss: 0.5455 - accuracy: 0.9067\n",
      "Epoch 19/100\n",
      "750/750 [==============================] - 0s 41us/sample - loss: 0.5244 - accuracy: 0.9360\n",
      "Epoch 20/100\n",
      "750/750 [==============================] - 0s 38us/sample - loss: 0.5027 - accuracy: 0.9533\n",
      "Epoch 21/100\n",
      "750/750 [==============================] - 0s 39us/sample - loss: 0.4814 - accuracy: 0.9693\n",
      "Epoch 22/100\n",
      "750/750 [==============================] - 0s 47us/sample - loss: 0.4608 - accuracy: 0.9773\n",
      "Epoch 23/100\n",
      "750/750 [==============================] - 0s 44us/sample - loss: 0.4412 - accuracy: 0.9813\n",
      "Epoch 24/100\n",
      "750/750 [==============================] - 0s 42us/sample - loss: 0.4225 - accuracy: 0.9867\n",
      "Epoch 25/100\n",
      "750/750 [==============================] - 0s 43us/sample - loss: 0.4052 - accuracy: 0.9920\n",
      "Epoch 26/100\n",
      "750/750 [==============================] - 0s 44us/sample - loss: 0.3887 - accuracy: 0.9933\n",
      "Epoch 27/100\n",
      "750/750 [==============================] - 0s 43us/sample - loss: 0.3730 - accuracy: 0.9973\n",
      "Epoch 28/100\n",
      "750/750 [==============================] - 0s 45us/sample - loss: 0.3584 - accuracy: 0.9987\n",
      "Epoch 29/100\n",
      "750/750 [==============================] - 0s 42us/sample - loss: 0.3446 - accuracy: 1.0000\n",
      "Epoch 30/100\n",
      "750/750 [==============================] - 0s 40us/sample - loss: 0.3317 - accuracy: 1.0000\n",
      "Epoch 31/100\n",
      "750/750 [==============================] - 0s 43us/sample - loss: 0.3196 - accuracy: 1.0000\n",
      "Epoch 32/100\n",
      "750/750 [==============================] - 0s 45us/sample - loss: 0.3082 - accuracy: 1.0000\n",
      "Epoch 33/100\n",
      "750/750 [==============================] - 0s 42us/sample - loss: 0.2976 - accuracy: 1.0000\n",
      "Epoch 34/100\n",
      "750/750 [==============================] - 0s 49us/sample - loss: 0.2876 - accuracy: 1.0000\n",
      "Epoch 35/100\n",
      "750/750 [==============================] - 0s 49us/sample - loss: 0.2782 - accuracy: 1.0000\n",
      "Epoch 36/100\n",
      "750/750 [==============================] - 0s 46us/sample - loss: 0.2694 - accuracy: 1.0000\n",
      "Epoch 37/100\n",
      "750/750 [==============================] - 0s 46us/sample - loss: 0.2611 - accuracy: 1.0000\n",
      "Epoch 38/100\n",
      "750/750 [==============================] - 0s 43us/sample - loss: 0.2533 - accuracy: 1.0000\n",
      "Epoch 39/100\n",
      "750/750 [==============================] - 0s 46us/sample - loss: 0.2458 - accuracy: 1.0000\n",
      "Epoch 40/100\n",
      "750/750 [==============================] - 0s 45us/sample - loss: 0.2387 - accuracy: 1.0000\n",
      "Epoch 41/100\n",
      "750/750 [==============================] - 0s 43us/sample - loss: 0.2320 - accuracy: 1.0000\n",
      "Epoch 42/100\n",
      "750/750 [==============================] - 0s 42us/sample - loss: 0.2256 - accuracy: 1.0000\n",
      "Epoch 43/100\n",
      "750/750 [==============================] - 0s 45us/sample - loss: 0.2195 - accuracy: 1.0000\n",
      "Epoch 44/100\n",
      "750/750 [==============================] - 0s 65us/sample - loss: 0.2137 - accuracy: 1.0000\n",
      "Epoch 45/100\n",
      "750/750 [==============================] - 0s 39us/sample - loss: 0.2081 - accuracy: 1.0000\n",
      "Epoch 46/100\n",
      "750/750 [==============================] - 0s 42us/sample - loss: 0.2028 - accuracy: 1.0000\n",
      "Epoch 47/100\n",
      "750/750 [==============================] - 0s 41us/sample - loss: 0.1977 - accuracy: 1.0000\n",
      "Epoch 48/100\n",
      "750/750 [==============================] - 0s 40us/sample - loss: 0.1929 - accuracy: 1.0000\n",
      "Epoch 49/100\n",
      "750/750 [==============================] - 0s 37us/sample - loss: 0.1882 - accuracy: 1.0000\n",
      "Epoch 50/100\n",
      "750/750 [==============================] - 0s 37us/sample - loss: 0.1838 - accuracy: 1.0000\n",
      "Epoch 51/100\n",
      "750/750 [==============================] - 0s 37us/sample - loss: 0.1795 - accuracy: 1.0000\n",
      "Epoch 52/100\n",
      "750/750 [==============================] - 0s 38us/sample - loss: 0.1753 - accuracy: 1.0000\n",
      "Epoch 53/100\n",
      "750/750 [==============================] - 0s 37us/sample - loss: 0.1714 - accuracy: 1.0000\n",
      "Epoch 54/100\n",
      "750/750 [==============================] - 0s 35us/sample - loss: 0.1675 - accuracy: 1.0000\n",
      "Epoch 55/100\n",
      "750/750 [==============================] - 0s 36us/sample - loss: 0.1638 - accuracy: 1.0000\n",
      "Epoch 56/100\n",
      "750/750 [==============================] - 0s 37us/sample - loss: 0.1603 - accuracy: 1.0000\n",
      "Epoch 57/100\n",
      "750/750 [==============================] - 0s 36us/sample - loss: 0.1568 - accuracy: 1.0000\n",
      "Epoch 58/100\n",
      "750/750 [==============================] - 0s 35us/sample - loss: 0.1535 - accuracy: 1.0000\n",
      "Epoch 59/100\n",
      "750/750 [==============================] - 0s 36us/sample - loss: 0.1503 - accuracy: 1.0000\n",
      "Epoch 60/100\n",
      "750/750 [==============================] - 0s 42us/sample - loss: 0.1472 - accuracy: 1.0000\n",
      "Epoch 61/100\n",
      "750/750 [==============================] - 0s 45us/sample - loss: 0.1441 - accuracy: 1.0000\n",
      "Epoch 62/100\n",
      "750/750 [==============================] - 0s 43us/sample - loss: 0.1412 - accuracy: 1.0000\n",
      "Epoch 63/100\n",
      "750/750 [==============================] - 0s 43us/sample - loss: 0.1384 - accuracy: 1.0000\n",
      "Epoch 64/100\n",
      "750/750 [==============================] - 0s 43us/sample - loss: 0.1357 - accuracy: 1.0000\n",
      "Epoch 65/100\n",
      "750/750 [==============================] - 0s 40us/sample - loss: 0.1330 - accuracy: 1.0000\n",
      "Epoch 66/100\n",
      "750/750 [==============================] - 0s 38us/sample - loss: 0.1304 - accuracy: 1.0000\n",
      "Epoch 67/100\n",
      "750/750 [==============================] - 0s 36us/sample - loss: 0.1279 - accuracy: 1.0000\n",
      "Epoch 68/100\n",
      "750/750 [==============================] - 0s 36us/sample - loss: 0.1255 - accuracy: 1.0000\n",
      "Epoch 69/100\n",
      "750/750 [==============================] - 0s 36us/sample - loss: 0.1231 - accuracy: 1.0000\n",
      "Epoch 70/100\n",
      "750/750 [==============================] - 0s 36us/sample - loss: 0.1208 - accuracy: 1.0000\n",
      "Epoch 71/100\n",
      "750/750 [==============================] - 0s 34us/sample - loss: 0.1186 - accuracy: 1.0000\n",
      "Epoch 72/100\n",
      "750/750 [==============================] - 0s 35us/sample - loss: 0.1164 - accuracy: 1.0000\n",
      "Epoch 73/100\n",
      "750/750 [==============================] - 0s 40us/sample - loss: 0.1143 - accuracy: 1.0000\n",
      "Epoch 74/100\n",
      "750/750 [==============================] - 0s 38us/sample - loss: 0.1122 - accuracy: 1.0000\n",
      "Epoch 75/100\n",
      "750/750 [==============================] - 0s 38us/sample - loss: 0.1102 - accuracy: 1.0000\n",
      "Epoch 76/100\n",
      "750/750 [==============================] - 0s 37us/sample - loss: 0.1083 - accuracy: 1.0000\n",
      "Epoch 77/100\n",
      "750/750 [==============================] - 0s 37us/sample - loss: 0.1064 - accuracy: 1.0000\n",
      "Epoch 78/100\n"
     ]
    },
    {
     "name": "stdout",
     "output_type": "stream",
     "text": [
      "750/750 [==============================] - 0s 37us/sample - loss: 0.1045 - accuracy: 1.0000\n",
      "Epoch 79/100\n",
      "750/750 [==============================] - 0s 39us/sample - loss: 0.1027 - accuracy: 1.0000\n",
      "Epoch 80/100\n",
      "750/750 [==============================] - 0s 38us/sample - loss: 0.1010 - accuracy: 1.0000\n",
      "Epoch 81/100\n",
      "750/750 [==============================] - 0s 36us/sample - loss: 0.0993 - accuracy: 1.0000\n",
      "Epoch 82/100\n",
      "750/750 [==============================] - 0s 36us/sample - loss: 0.0976 - accuracy: 1.0000\n",
      "Epoch 83/100\n",
      "750/750 [==============================] - 0s 37us/sample - loss: 0.0960 - accuracy: 1.0000\n",
      "Epoch 84/100\n",
      "750/750 [==============================] - 0s 37us/sample - loss: 0.0944 - accuracy: 1.0000\n",
      "Epoch 85/100\n",
      "750/750 [==============================] - 0s 36us/sample - loss: 0.0928 - accuracy: 1.0000\n",
      "Epoch 86/100\n",
      "750/750 [==============================] - 0s 35us/sample - loss: 0.0913 - accuracy: 1.0000\n",
      "Epoch 87/100\n",
      "750/750 [==============================] - 0s 40us/sample - loss: 0.0898 - accuracy: 1.0000\n",
      "Epoch 88/100\n",
      "750/750 [==============================] - 0s 39us/sample - loss: 0.0883 - accuracy: 1.0000\n",
      "Epoch 89/100\n",
      "750/750 [==============================] - 0s 38us/sample - loss: 0.0869 - accuracy: 1.0000\n",
      "Epoch 90/100\n",
      "750/750 [==============================] - 0s 38us/sample - loss: 0.0855 - accuracy: 1.0000\n",
      "Epoch 91/100\n",
      "750/750 [==============================] - 0s 37us/sample - loss: 0.0841 - accuracy: 1.0000\n",
      "Epoch 92/100\n",
      "750/750 [==============================] - 0s 37us/sample - loss: 0.0828 - accuracy: 1.0000\n",
      "Epoch 93/100\n",
      "750/750 [==============================] - 0s 38us/sample - loss: 0.0815 - accuracy: 1.0000\n",
      "Epoch 94/100\n",
      "750/750 [==============================] - 0s 36us/sample - loss: 0.0802 - accuracy: 1.0000\n",
      "Epoch 95/100\n",
      "750/750 [==============================] - 0s 36us/sample - loss: 0.0790 - accuracy: 1.0000\n",
      "Epoch 96/100\n",
      "750/750 [==============================] - 0s 37us/sample - loss: 0.0778 - accuracy: 1.0000\n",
      "Epoch 97/100\n",
      "750/750 [==============================] - 0s 37us/sample - loss: 0.0766 - accuracy: 1.0000\n",
      "Epoch 98/100\n",
      "750/750 [==============================] - 0s 36us/sample - loss: 0.0754 - accuracy: 1.0000\n",
      "Epoch 99/100\n",
      "750/750 [==============================] - 0s 36us/sample - loss: 0.0742 - accuracy: 1.0000\n",
      "Epoch 100/100\n",
      "750/750 [==============================] - 0s 37us/sample - loss: 0.0731 - accuracy: 1.0000\n"
     ]
    }
   ],
   "source": [
    "# Fit the model to the training data\n",
    "fit_model = nn_model.fit(X_train_scaled, y_train, epochs=100)"
   ]
  },
  {
   "cell_type": "code",
   "execution_count": 12,
   "id": "b7e66955",
   "metadata": {},
   "outputs": [
    {
     "data": {
      "text/plain": [
       "<AxesSubplot:>"
      ]
     },
     "execution_count": 12,
     "metadata": {},
     "output_type": "execute_result"
    },
    {
     "data": {
      "image/png": "[encoded data removed]",
      "text/plain": [
       "<Figure size 432x288 with 1 Axes>"
      ]
     },
     "metadata": {
      "needs_background": "light"
     },
     "output_type": "display_data"
    }
   ],
   "source": [
    "# Create a DataFrame containing training history\n",
    "history_df = pd.DataFrame(fit_model.history, index=range(1,len(fit_model.history[\"loss\"])+1))\n",
    "\n",
    "# Plot the loss\n",
    "history_df.plot(y=\"loss\")"
   ]
  },
  {
   "cell_type": "code",
   "execution_count": 13,
   "id": "fd4e1017",
   "metadata": {},
   "outputs": [
    {
     "data": {
      "text/plain": [
       "<AxesSubplot:>"
      ]
     },
     "execution_count": 13,
     "metadata": {},
     "output_type": "execute_result"
    },
    {
     "data": {
      "image/png": "[encoded data removed]",
      "text/plain": [
       "<Figure size 432x288 with 1 Axes>"
      ]
     },
     "metadata": {
      "needs_background": "light"
     },
     "output_type": "display_data"
    }
   ],
   "source": [
    "# Plot the accuracy\n",
    "history_df.plot(y=\"accuracy\")"
   ]
  },
  {
   "cell_type": "code",
   "execution_count": 14,
   "id": "26790b01",
   "metadata": {},
   "outputs": [
    {
     "name": "stdout",
     "output_type": "stream",
     "text": [
      "250/1 - 0s - loss: 0.0771 - accuracy: 1.0000\n",
      "Loss: 0.06860431492328643, Accuracy: 1.0\n"
     ]
    }
   ],
   "source": [
    "# Evaluate the model using the test data\n",
    "model_loss, model_accuracy = nn_model.evaluate(X_test_scaled,y_test,verbose=2)\n",
    "print(f\"Loss: {model_loss}, Accuracy: {model_accuracy}\")"
   ]
  },
  {
   "cell_type": "code",
   "execution_count": 15,
   "id": "ad77396c",
   "metadata": {},
   "outputs": [
    {
     "data": {
      "text/plain": [
       "array([[0],\n",
       "       [1],\n",
       "       [0],\n",
       "       [1],\n",
       "       [0],\n",
       "       [0],\n",
       "       [1],\n",
       "       [1],\n",
       "       [1],\n",
       "       [0]], dtype=int32)"
      ]
     },
     "execution_count": 15,
     "metadata": {},
     "output_type": "execute_result"
    }
   ],
   "source": [
    "# Predict the classification of a new set of blob data\n",
    "new_X, new_Y = make_blobs(n_samples=10, centers=2, n_features=2, random_state=78)\n",
    "new_X_scaled = X_scaler.transform(new_X)\n",
    "(nn_model.predict(new_X_scaled) > 0.5).astype(\"int32\")"
   ]
  },
  {
   "cell_type": "code",
   "execution_count": 16,
   "id": "6d82733f",
   "metadata": {},
   "outputs": [
    {
     "data": {
      "text/plain": [
       "<AxesSubplot:xlabel='Feature 1', ylabel='Feature 2'>"
      ]
     },
     "execution_count": 16,
     "metadata": {},
     "output_type": "execute_result"
    },
    {
     "data": {
      "image/png": "[encoded data removed]",
      "text/plain": [
       "<Figure size 432x288 with 2 Axes>"
      ]
     },
     "metadata": {
      "needs_background": "light"
     },
     "output_type": "display_data"
    }
   ],
   "source": [
    "from sklearn.datasets import make_moons\n",
    "\n",
    "# Creating dummy nonlinear data\n",
    "X_moons, y_moons = make_moons(n_samples=1000, noise=0.08, random_state=78)\n",
    "\n",
    "# Transforming y_moons to a vertical vector\n",
    "y_moons = y_moons.reshape(-1, 1)\n",
    "\n",
    "# Creating a DataFrame to plot the nonlinear dummy data\n",
    "df_moons = pd.DataFrame(X_moons, columns=[\"Feature 1\", \"Feature 2\"])\n",
    "df_moons[\"Target\"] = y_moons\n",
    "\n",
    "# Plot the nonlinear dummy data\n",
    "df_moons.plot.scatter(x=\"Feature 1\",y=\"Feature 2\", c=\"Target\",colormap=\"winter\")"
   ]
  },
  {
   "cell_type": "code",
   "execution_count": 17,
   "id": "03e4ff07",
   "metadata": {},
   "outputs": [],
   "source": [
    "# Create training and testing sets\n",
    "X_moon_train, X_moon_test, y_moon_train, y_moon_test = train_test_split(\n",
    "    X_moons, y_moons, random_state=78\n",
    ")\n",
    "\n",
    "# Create the scaler instance\n",
    "X_moon_scaler = skl.preprocessing.StandardScaler()\n",
    "\n",
    "# Fit the scaler\n",
    "X_moon_scaler.fit(X_moon_train)\n",
    "\n",
    "# Scale the data\n",
    "X_moon_train_scaled = X_moon_scaler.transform(X_moon_train)\n",
    "X_moon_test_scaled = X_moon_scaler.transform(X_moon_test)"
   ]
  },
  {
   "cell_type": "code",
   "execution_count": 18,
   "id": "d3c0cb18",
   "metadata": {},
   "outputs": [
    {
     "name": "stdout",
     "output_type": "stream",
     "text": [
      "Train on 750 samples\n",
      "Epoch 1/100\n",
      "750/750 [==============================] - 0s 68us/sample - loss: 0.7119 - accuracy: 0.6853\n",
      "Epoch 2/100\n",
      "750/750 [==============================] - 0s 43us/sample - loss: 0.6401 - accuracy: 0.6973\n",
      "Epoch 3/100\n",
      "750/750 [==============================] - 0s 42us/sample - loss: 0.5859 - accuracy: 0.7120\n",
      "Epoch 4/100\n",
      "750/750 [==============================] - 0s 42us/sample - loss: 0.5472 - accuracy: 0.7213\n",
      "Epoch 5/100\n",
      "750/750 [==============================] - 0s 41us/sample - loss: 0.5188 - accuracy: 0.7320\n",
      "Epoch 6/100\n",
      "750/750 [==============================] - 0s 41us/sample - loss: 0.4959 - accuracy: 0.7413\n",
      "Epoch 7/100\n",
      "750/750 [==============================] - 0s 41us/sample - loss: 0.4773 - accuracy: 0.7467\n",
      "Epoch 8/100\n",
      "750/750 [==============================] - 0s 42us/sample - loss: 0.4614 - accuracy: 0.7573\n",
      "Epoch 9/100\n",
      "750/750 [==============================] - 0s 41us/sample - loss: 0.4483 - accuracy: 0.7667\n",
      "Epoch 10/100\n",
      "750/750 [==============================] - 0s 40us/sample - loss: 0.4365 - accuracy: 0.7733\n",
      "Epoch 11/100\n",
      "750/750 [==============================] - 0s 41us/sample - loss: 0.4262 - accuracy: 0.7787\n",
      "Epoch 12/100\n",
      "750/750 [==============================] - 0s 40us/sample - loss: 0.4165 - accuracy: 0.7827\n",
      "Epoch 13/100\n",
      "750/750 [==============================] - 0s 39us/sample - loss: 0.4079 - accuracy: 0.7840\n",
      "Epoch 14/100\n",
      "750/750 [==============================] - 0s 42us/sample - loss: 0.4000 - accuracy: 0.7907\n",
      "Epoch 15/100\n",
      "750/750 [==============================] - 0s 42us/sample - loss: 0.3925 - accuracy: 0.7907\n",
      "Epoch 16/100\n",
      "750/750 [==============================] - 0s 40us/sample - loss: 0.3856 - accuracy: 0.7960\n",
      "Epoch 17/100\n",
      "750/750 [==============================] - 0s 40us/sample - loss: 0.3792 - accuracy: 0.8000\n",
      "Epoch 18/100\n",
      "750/750 [==============================] - 0s 39us/sample - loss: 0.3731 - accuracy: 0.8107\n",
      "Epoch 19/100\n",
      "750/750 [==============================] - 0s 44us/sample - loss: 0.3671 - accuracy: 0.8107\n",
      "Epoch 20/100\n",
      "750/750 [==============================] - 0s 42us/sample - loss: 0.3616 - accuracy: 0.8160\n",
      "Epoch 21/100\n",
      "750/750 [==============================] - 0s 42us/sample - loss: 0.3565 - accuracy: 0.8173\n",
      "Epoch 22/100\n",
      "750/750 [==============================] - 0s 42us/sample - loss: 0.3513 - accuracy: 0.8200\n",
      "Epoch 23/100\n",
      "750/750 [==============================] - 0s 41us/sample - loss: 0.3466 - accuracy: 0.8200\n",
      "Epoch 24/100\n",
      "750/750 [==============================] - 0s 40us/sample - loss: 0.3419 - accuracy: 0.8253\n",
      "Epoch 25/100\n",
      "750/750 [==============================] - 0s 36us/sample - loss: 0.3375 - accuracy: 0.8267\n",
      "Epoch 26/100\n",
      "750/750 [==============================] - 0s 37us/sample - loss: 0.3332 - accuracy: 0.8307\n",
      "Epoch 27/100\n",
      "750/750 [==============================] - 0s 45us/sample - loss: 0.3291 - accuracy: 0.8333\n",
      "Epoch 28/100\n",
      "750/750 [==============================] - 0s 43us/sample - loss: 0.3251 - accuracy: 0.8373\n",
      "Epoch 29/100\n",
      "750/750 [==============================] - 0s 41us/sample - loss: 0.3213 - accuracy: 0.8387\n",
      "Epoch 30/100\n",
      "750/750 [==============================] - 0s 40us/sample - loss: 0.3177 - accuracy: 0.8413\n",
      "Epoch 31/100\n",
      "750/750 [==============================] - 0s 41us/sample - loss: 0.3143 - accuracy: 0.8413\n",
      "Epoch 32/100\n",
      "750/750 [==============================] - 0s 40us/sample - loss: 0.3110 - accuracy: 0.8480\n",
      "Epoch 33/100\n",
      "750/750 [==============================] - 0s 40us/sample - loss: 0.3078 - accuracy: 0.8507\n",
      "Epoch 34/100\n",
      "750/750 [==============================] - 0s 41us/sample - loss: 0.3050 - accuracy: 0.8507\n",
      "Epoch 35/100\n",
      "750/750 [==============================] - 0s 43us/sample - loss: 0.3022 - accuracy: 0.8507\n",
      "Epoch 36/100\n",
      "750/750 [==============================] - 0s 41us/sample - loss: 0.2997 - accuracy: 0.8520\n",
      "Epoch 37/100\n",
      "750/750 [==============================] - 0s 38us/sample - loss: 0.2973 - accuracy: 0.8520\n",
      "Epoch 38/100\n",
      "750/750 [==============================] - 0s 37us/sample - loss: 0.2950 - accuracy: 0.8587\n",
      "Epoch 39/100\n",
      "750/750 [==============================] - 0s 38us/sample - loss: 0.2929 - accuracy: 0.8587\n",
      "Epoch 40/100\n",
      "750/750 [==============================] - 0s 46us/sample - loss: 0.2909 - accuracy: 0.8600\n",
      "Epoch 41/100\n",
      "750/750 [==============================] - 0s 41us/sample - loss: 0.2889 - accuracy: 0.8640\n",
      "Epoch 42/100\n",
      "750/750 [==============================] - 0s 52us/sample - loss: 0.2872 - accuracy: 0.8653\n",
      "Epoch 43/100\n",
      "750/750 [==============================] - 0s 43us/sample - loss: 0.2855 - accuracy: 0.8667\n",
      "Epoch 44/100\n",
      "750/750 [==============================] - 0s 42us/sample - loss: 0.2839 - accuracy: 0.8667\n",
      "Epoch 45/100\n",
      "750/750 [==============================] - 0s 42us/sample - loss: 0.2824 - accuracy: 0.8667\n",
      "Epoch 46/100\n",
      "750/750 [==============================] - 0s 41us/sample - loss: 0.2811 - accuracy: 0.8720\n",
      "Epoch 47/100\n",
      "750/750 [==============================] - 0s 40us/sample - loss: 0.2799 - accuracy: 0.8733\n",
      "Epoch 48/100\n",
      "750/750 [==============================] - 0s 41us/sample - loss: 0.2786 - accuracy: 0.8747\n",
      "Epoch 49/100\n",
      "750/750 [==============================] - 0s 40us/sample - loss: 0.2776 - accuracy: 0.8747\n",
      "Epoch 50/100\n",
      "750/750 [==============================] - 0s 39us/sample - loss: 0.2764 - accuracy: 0.8760\n",
      "Epoch 51/100\n",
      "750/750 [==============================] - 0s 37us/sample - loss: 0.2755 - accuracy: 0.8773\n",
      "Epoch 52/100\n",
      "750/750 [==============================] - 0s 44us/sample - loss: 0.2745 - accuracy: 0.8800\n",
      "Epoch 53/100\n",
      "750/750 [==============================] - 0s 44us/sample - loss: 0.2736 - accuracy: 0.8827\n",
      "Epoch 54/100\n",
      "750/750 [==============================] - 0s 45us/sample - loss: 0.2728 - accuracy: 0.8853\n",
      "Epoch 55/100\n",
      "750/750 [==============================] - 0s 43us/sample - loss: 0.2721 - accuracy: 0.8853\n",
      "Epoch 56/100\n",
      "750/750 [==============================] - 0s 43us/sample - loss: 0.2714 - accuracy: 0.8853\n",
      "Epoch 57/100\n",
      "750/750 [==============================] - 0s 43us/sample - loss: 0.2706 - accuracy: 0.8853\n",
      "Epoch 58/100\n",
      "750/750 [==============================] - 0s 42us/sample - loss: 0.2699 - accuracy: 0.8867\n",
      "Epoch 59/100\n",
      "750/750 [==============================] - 0s 42us/sample - loss: 0.2693 - accuracy: 0.8867\n",
      "Epoch 60/100\n",
      "750/750 [==============================] - 0s 40us/sample - loss: 0.2688 - accuracy: 0.8893\n",
      "Epoch 61/100\n",
      "750/750 [==============================] - 0s 40us/sample - loss: 0.2682 - accuracy: 0.8920\n",
      "Epoch 62/100\n",
      "750/750 [==============================] - 0s 37us/sample - loss: 0.2676 - accuracy: 0.8920\n",
      "Epoch 63/100\n",
      "750/750 [==============================] - 0s 38us/sample - loss: 0.2671 - accuracy: 0.8920\n",
      "Epoch 64/100\n",
      "750/750 [==============================] - 0s 44us/sample - loss: 0.2666 - accuracy: 0.8920\n",
      "Epoch 65/100\n",
      "750/750 [==============================] - 0s 45us/sample - loss: 0.2663 - accuracy: 0.8933\n",
      "Epoch 66/100\n",
      "750/750 [==============================] - 0s 44us/sample - loss: 0.2657 - accuracy: 0.8933\n",
      "Epoch 67/100\n",
      "750/750 [==============================] - 0s 43us/sample - loss: 0.2653 - accuracy: 0.8933\n",
      "Epoch 68/100\n",
      "750/750 [==============================] - 0s 42us/sample - loss: 0.2650 - accuracy: 0.8933\n",
      "Epoch 69/100\n",
      "750/750 [==============================] - 0s 43us/sample - loss: 0.2646 - accuracy: 0.8933\n",
      "Epoch 70/100\n",
      "750/750 [==============================] - 0s 43us/sample - loss: 0.2642 - accuracy: 0.8933\n",
      "Epoch 71/100\n",
      "750/750 [==============================] - 0s 40us/sample - loss: 0.2638 - accuracy: 0.8920\n",
      "Epoch 72/100\n",
      "750/750 [==============================] - 0s 41us/sample - loss: 0.2635 - accuracy: 0.8920\n",
      "Epoch 73/100\n",
      "750/750 [==============================] - 0s 40us/sample - loss: 0.2631 - accuracy: 0.8920\n",
      "Epoch 74/100\n",
      "750/750 [==============================] - 0s 39us/sample - loss: 0.2628 - accuracy: 0.8920\n",
      "Epoch 75/100\n",
      "750/750 [==============================] - 0s 39us/sample - loss: 0.2625 - accuracy: 0.8907\n",
      "Epoch 76/100\n",
      "750/750 [==============================] - 0s 43us/sample - loss: 0.2622 - accuracy: 0.8920\n",
      "Epoch 77/100\n",
      "750/750 [==============================] - 0s 43us/sample - loss: 0.2619 - accuracy: 0.8920\n",
      "Epoch 78/100\n"
     ]
    },
    {
     "name": "stdout",
     "output_type": "stream",
     "text": [
      "750/750 [==============================] - 0s 42us/sample - loss: 0.2616 - accuracy: 0.8920\n",
      "Epoch 79/100\n",
      "750/750 [==============================] - 0s 42us/sample - loss: 0.2613 - accuracy: 0.8920\n",
      "Epoch 80/100\n",
      "750/750 [==============================] - 0s 38us/sample - loss: 0.2611 - accuracy: 0.8920\n",
      "Epoch 81/100\n",
      "750/750 [==============================] - 0s 38us/sample - loss: 0.2609 - accuracy: 0.8920\n",
      "Epoch 82/100\n",
      "750/750 [==============================] - 0s 38us/sample - loss: 0.2606 - accuracy: 0.8920\n",
      "Epoch 83/100\n",
      "750/750 [==============================] - 0s 36us/sample - loss: 0.2604 - accuracy: 0.8920\n",
      "Epoch 84/100\n",
      "750/750 [==============================] - 0s 37us/sample - loss: 0.2601 - accuracy: 0.8920\n",
      "Epoch 85/100\n",
      "750/750 [==============================] - 0s 36us/sample - loss: 0.2599 - accuracy: 0.8920\n",
      "Epoch 86/100\n",
      "750/750 [==============================] - 0s 36us/sample - loss: 0.2597 - accuracy: 0.8920\n",
      "Epoch 87/100\n",
      "750/750 [==============================] - 0s 36us/sample - loss: 0.2595 - accuracy: 0.8920\n",
      "Epoch 88/100\n",
      "750/750 [==============================] - 0s 35us/sample - loss: 0.2592 - accuracy: 0.8920\n",
      "Epoch 89/100\n",
      "750/750 [==============================] - 0s 38us/sample - loss: 0.2591 - accuracy: 0.8920\n",
      "Epoch 90/100\n",
      "750/750 [==============================] - 0s 41us/sample - loss: 0.2589 - accuracy: 0.8920\n",
      "Epoch 91/100\n",
      "750/750 [==============================] - 0s 38us/sample - loss: 0.2587 - accuracy: 0.8920\n",
      "Epoch 92/100\n",
      "750/750 [==============================] - 0s 39us/sample - loss: 0.2585 - accuracy: 0.8920\n",
      "Epoch 93/100\n",
      "750/750 [==============================] - 0s 38us/sample - loss: 0.2584 - accuracy: 0.8920\n",
      "Epoch 94/100\n",
      "750/750 [==============================] - 0s 39us/sample - loss: 0.2582 - accuracy: 0.8920\n",
      "Epoch 95/100\n",
      "750/750 [==============================] - 0s 37us/sample - loss: 0.2580 - accuracy: 0.8920\n",
      "Epoch 96/100\n",
      "750/750 [==============================] - 0s 37us/sample - loss: 0.2578 - accuracy: 0.8920\n",
      "Epoch 97/100\n",
      "750/750 [==============================] - 0s 37us/sample - loss: 0.2578 - accuracy: 0.8920\n",
      "Epoch 98/100\n",
      "750/750 [==============================] - 0s 37us/sample - loss: 0.2575 - accuracy: 0.8920\n",
      "Epoch 99/100\n",
      "750/750 [==============================] - 0s 37us/sample - loss: 0.2574 - accuracy: 0.8920\n",
      "Epoch 100/100\n",
      "750/750 [==============================] - 0s 37us/sample - loss: 0.2572 - accuracy: 0.8920\n"
     ]
    }
   ],
   "source": [
    "# Training the model with the nonlinear data\n",
    "model_moon = nn_model.fit(X_moon_train_scaled, y_moon_train, epochs=100, shuffle=True)"
   ]
  },
  {
   "cell_type": "code",
   "execution_count": 19,
   "id": "fa52f860",
   "metadata": {},
   "outputs": [
    {
     "data": {
      "text/plain": [
       "<AxesSubplot:>"
      ]
     },
     "execution_count": 19,
     "metadata": {},
     "output_type": "execute_result"
    },
    {
     "data": {
      "image/png": "[encoded data removed]",
      "text/plain": [
       "<Figure size 432x288 with 1 Axes>"
      ]
     },
     "metadata": {
      "needs_background": "light"
     },
     "output_type": "display_data"
    }
   ],
   "source": [
    "# Create a DataFrame containing training history\n",
    "history_df = pd.DataFrame(model_moon.history, index=range(1,len(model_moon.history[\"loss\"])+1))\n",
    "\n",
    "# Plot the loss\n",
    "history_df.plot(y=\"loss\")"
   ]
  },
  {
   "cell_type": "code",
   "execution_count": 20,
   "id": "e070f194",
   "metadata": {},
   "outputs": [
    {
     "data": {
      "text/plain": [
       "<AxesSubplot:>"
      ]
     },
     "execution_count": 20,
     "metadata": {},
     "output_type": "execute_result"
    },
    {
     "data": {
      "image/png": "[encoded data removed]",
      "text/plain": [
       "<Figure size 432x288 with 1 Axes>"
      ]
     },
     "metadata": {
      "needs_background": "light"
     },
     "output_type": "display_data"
    }
   ],
   "source": [
    "# Plot the accuracy\n",
    "history_df.plot(y=\"accuracy\")"
   ]
  },
  {
   "cell_type": "code",
   "execution_count": 21,
   "id": "ae8f32c9",
   "metadata": {},
   "outputs": [],
   "source": [
    "# Generate our new Sequential model\n",
    "new_model = tf.keras.models.Sequential()"
   ]
  },
  {
   "cell_type": "code",
   "execution_count": 22,
   "id": "3004cdb3",
   "metadata": {},
   "outputs": [],
   "source": [
    "# Add the input and hidden layer\n",
    "number_inputs = 2\n",
    "number_hidden_nodes = 6\n",
    "\n",
    "new_model.add(tf.keras.layers.Dense(units=number_hidden_nodes, activation=\"relu\", input_dim=number_inputs))\n",
    "\n",
    "# Add the output layer that uses a probability activation function\n",
    "new_model.add(tf.keras.layers.Dense(units=1, activation=\"sigmoid\"))"
   ]
  },
  {
   "cell_type": "code",
   "execution_count": 23,
   "id": "723742de",
   "metadata": {},
   "outputs": [
    {
     "name": "stdout",
     "output_type": "stream",
     "text": [
      "Train on 750 samples\n",
      "Epoch 1/100\n",
      "750/750 [==============================] - 0s 560us/sample - loss: 0.8092 - accuracy: 0.2720\n",
      "Epoch 2/100\n",
      "750/750 [==============================] - 0s 41us/sample - loss: 0.7633 - accuracy: 0.4133\n",
      "Epoch 3/100\n",
      "750/750 [==============================] - 0s 38us/sample - loss: 0.7212 - accuracy: 0.5080\n",
      "Epoch 4/100\n",
      "750/750 [==============================] - 0s 38us/sample - loss: 0.6833 - accuracy: 0.5467\n",
      "Epoch 5/100\n",
      "750/750 [==============================] - 0s 38us/sample - loss: 0.6483 - accuracy: 0.5920\n",
      "Epoch 6/100\n",
      "750/750 [==============================] - 0s 47us/sample - loss: 0.6161 - accuracy: 0.6293\n",
      "Epoch 7/100\n",
      "750/750 [==============================] - 0s 42us/sample - loss: 0.5865 - accuracy: 0.6613\n",
      "Epoch 8/100\n",
      "750/750 [==============================] - 0s 45us/sample - loss: 0.5593 - accuracy: 0.6933\n",
      "Epoch 9/100\n",
      "750/750 [==============================] - 0s 43us/sample - loss: 0.5341 - accuracy: 0.7307\n",
      "Epoch 10/100\n",
      "750/750 [==============================] - 0s 38us/sample - loss: 0.5108 - accuracy: 0.7653\n",
      "Epoch 11/100\n",
      "750/750 [==============================] - 0s 36us/sample - loss: 0.4894 - accuracy: 0.7867\n",
      "Epoch 12/100\n",
      "750/750 [==============================] - 0s 40us/sample - loss: 0.4699 - accuracy: 0.8027\n",
      "Epoch 13/100\n",
      "750/750 [==============================] - 0s 39us/sample - loss: 0.4515 - accuracy: 0.8227\n",
      "Epoch 14/100\n",
      "750/750 [==============================] - 0s 37us/sample - loss: 0.4346 - accuracy: 0.8267\n",
      "Epoch 15/100\n",
      "750/750 [==============================] - 0s 45us/sample - loss: 0.4190 - accuracy: 0.8387\n",
      "Epoch 16/100\n",
      "750/750 [==============================] - 0s 41us/sample - loss: 0.4047 - accuracy: 0.8440\n",
      "Epoch 17/100\n",
      "750/750 [==============================] - 0s 40us/sample - loss: 0.3915 - accuracy: 0.8507\n",
      "Epoch 18/100\n",
      "750/750 [==============================] - 0s 41us/sample - loss: 0.3797 - accuracy: 0.8573\n",
      "Epoch 19/100\n",
      "750/750 [==============================] - 0s 46us/sample - loss: 0.3687 - accuracy: 0.8600\n",
      "Epoch 20/100\n",
      "750/750 [==============================] - 0s 44us/sample - loss: 0.3587 - accuracy: 0.8613\n",
      "Epoch 21/100\n",
      "750/750 [==============================] - 0s 43us/sample - loss: 0.3497 - accuracy: 0.8627\n",
      "Epoch 22/100\n",
      "750/750 [==============================] - 0s 41us/sample - loss: 0.3415 - accuracy: 0.8653\n",
      "Epoch 23/100\n",
      "750/750 [==============================] - 0s 44us/sample - loss: 0.3339 - accuracy: 0.8680\n",
      "Epoch 24/100\n",
      "750/750 [==============================] - 0s 52us/sample - loss: 0.3269 - accuracy: 0.8693\n",
      "Epoch 25/100\n",
      "750/750 [==============================] - 0s 48us/sample - loss: 0.3205 - accuracy: 0.8693\n",
      "Epoch 26/100\n",
      "750/750 [==============================] - 0s 45us/sample - loss: 0.3146 - accuracy: 0.8720\n",
      "Epoch 27/100\n",
      "750/750 [==============================] - 0s 44us/sample - loss: 0.3090 - accuracy: 0.8733\n",
      "Epoch 28/100\n",
      "750/750 [==============================] - 0s 47us/sample - loss: 0.3039 - accuracy: 0.8747\n",
      "Epoch 29/100\n",
      "750/750 [==============================] - 0s 45us/sample - loss: 0.2990 - accuracy: 0.8747\n",
      "Epoch 30/100\n",
      "750/750 [==============================] - 0s 43us/sample - loss: 0.2946 - accuracy: 0.8747\n",
      "Epoch 31/100\n",
      "750/750 [==============================] - 0s 43us/sample - loss: 0.2903 - accuracy: 0.8760\n",
      "Epoch 32/100\n",
      "750/750 [==============================] - 0s 50us/sample - loss: 0.2862 - accuracy: 0.8760\n",
      "Epoch 33/100\n",
      "750/750 [==============================] - 0s 46us/sample - loss: 0.2824 - accuracy: 0.8773\n",
      "Epoch 34/100\n",
      "750/750 [==============================] - 0s 64us/sample - loss: 0.2787 - accuracy: 0.8773\n",
      "Epoch 35/100\n",
      "750/750 [==============================] - 0s 49us/sample - loss: 0.2751 - accuracy: 0.8787\n",
      "Epoch 36/100\n",
      "750/750 [==============================] - 0s 39us/sample - loss: 0.2717 - accuracy: 0.8800\n",
      "Epoch 37/100\n",
      "750/750 [==============================] - 0s 36us/sample - loss: 0.2685 - accuracy: 0.8800\n",
      "Epoch 38/100\n",
      "750/750 [==============================] - 0s 35us/sample - loss: 0.2654 - accuracy: 0.8813\n",
      "Epoch 39/100\n",
      "750/750 [==============================] - 0s 35us/sample - loss: 0.2625 - accuracy: 0.8853\n",
      "Epoch 40/100\n",
      "750/750 [==============================] - 0s 36us/sample - loss: 0.2597 - accuracy: 0.8867\n",
      "Epoch 41/100\n",
      "750/750 [==============================] - 0s 42us/sample - loss: 0.2569 - accuracy: 0.8880\n",
      "Epoch 42/100\n",
      "750/750 [==============================] - 0s 36us/sample - loss: 0.2543 - accuracy: 0.8933\n",
      "Epoch 43/100\n",
      "750/750 [==============================] - 0s 39us/sample - loss: 0.2517 - accuracy: 0.8947\n",
      "Epoch 44/100\n",
      "750/750 [==============================] - 0s 35us/sample - loss: 0.2493 - accuracy: 0.8987\n",
      "Epoch 45/100\n",
      "750/750 [==============================] - 0s 37us/sample - loss: 0.2469 - accuracy: 0.8987\n",
      "Epoch 46/100\n",
      "750/750 [==============================] - 0s 42us/sample - loss: 0.2449 - accuracy: 0.8987\n",
      "Epoch 47/100\n",
      "750/750 [==============================] - 0s 42us/sample - loss: 0.2428 - accuracy: 0.8987\n",
      "Epoch 48/100\n",
      "750/750 [==============================] - 0s 39us/sample - loss: 0.2410 - accuracy: 0.8987\n",
      "Epoch 49/100\n",
      "750/750 [==============================] - 0s 38us/sample - loss: 0.2391 - accuracy: 0.9013\n",
      "Epoch 50/100\n",
      "750/750 [==============================] - 0s 47us/sample - loss: 0.2373 - accuracy: 0.9013\n",
      "Epoch 51/100\n",
      "750/750 [==============================] - 0s 44us/sample - loss: 0.2357 - accuracy: 0.9013\n",
      "Epoch 52/100\n",
      "750/750 [==============================] - 0s 43us/sample - loss: 0.2340 - accuracy: 0.9013\n",
      "Epoch 53/100\n",
      "750/750 [==============================] - 0s 36us/sample - loss: 0.2325 - accuracy: 0.9027\n",
      "Epoch 54/100\n",
      "750/750 [==============================] - 0s 35us/sample - loss: 0.2310 - accuracy: 0.9027\n",
      "Epoch 55/100\n",
      "750/750 [==============================] - 0s 36us/sample - loss: 0.2296 - accuracy: 0.9027\n",
      "Epoch 56/100\n",
      "750/750 [==============================] - 0s 36us/sample - loss: 0.2282 - accuracy: 0.9040\n",
      "Epoch 57/100\n",
      "750/750 [==============================] - 0s 37us/sample - loss: 0.2268 - accuracy: 0.9053\n",
      "Epoch 58/100\n",
      "750/750 [==============================] - 0s 34us/sample - loss: 0.2254 - accuracy: 0.9053\n",
      "Epoch 59/100\n",
      "750/750 [==============================] - 0s 37us/sample - loss: 0.2240 - accuracy: 0.9067\n",
      "Epoch 60/100\n",
      "750/750 [==============================] - 0s 41us/sample - loss: 0.2227 - accuracy: 0.9080\n",
      "Epoch 61/100\n",
      "750/750 [==============================] - 0s 43us/sample - loss: 0.2214 - accuracy: 0.9107\n",
      "Epoch 62/100\n",
      "750/750 [==============================] - 0s 40us/sample - loss: 0.2200 - accuracy: 0.9107\n",
      "Epoch 63/100\n",
      "750/750 [==============================] - 0s 38us/sample - loss: 0.2188 - accuracy: 0.9107\n",
      "Epoch 64/100\n",
      "750/750 [==============================] - 0s 36us/sample - loss: 0.2175 - accuracy: 0.9120\n",
      "Epoch 65/100\n",
      "750/750 [==============================] - 0s 38us/sample - loss: 0.2162 - accuracy: 0.9120\n",
      "Epoch 66/100\n",
      "750/750 [==============================] - 0s 37us/sample - loss: 0.2150 - accuracy: 0.9120\n",
      "Epoch 67/100\n",
      "750/750 [==============================] - 0s 35us/sample - loss: 0.2138 - accuracy: 0.9133\n",
      "Epoch 68/100\n",
      "750/750 [==============================] - 0s 35us/sample - loss: 0.2126 - accuracy: 0.9133\n",
      "Epoch 69/100\n",
      "750/750 [==============================] - 0s 42us/sample - loss: 0.2113 - accuracy: 0.9173\n",
      "Epoch 70/100\n",
      "750/750 [==============================] - 0s 37us/sample - loss: 0.2101 - accuracy: 0.9173\n",
      "Epoch 71/100\n",
      "750/750 [==============================] - 0s 38us/sample - loss: 0.2088 - accuracy: 0.9173\n",
      "Epoch 72/100\n",
      "750/750 [==============================] - 0s 37us/sample - loss: 0.2076 - accuracy: 0.9173\n",
      "Epoch 73/100\n",
      "750/750 [==============================] - 0s 36us/sample - loss: 0.2063 - accuracy: 0.9173\n",
      "Epoch 74/100\n",
      "750/750 [==============================] - 0s 37us/sample - loss: 0.2051 - accuracy: 0.9173\n",
      "Epoch 75/100\n",
      "750/750 [==============================] - 0s 37us/sample - loss: 0.2038 - accuracy: 0.9187\n",
      "Epoch 76/100\n",
      "750/750 [==============================] - 0s 36us/sample - loss: 0.2025 - accuracy: 0.9187\n",
      "Epoch 77/100\n",
      "750/750 [==============================] - 0s 35us/sample - loss: 0.2012 - accuracy: 0.9200\n",
      "Epoch 78/100\n"
     ]
    },
    {
     "name": "stdout",
     "output_type": "stream",
     "text": [
      "750/750 [==============================] - 0s 37us/sample - loss: 0.1999 - accuracy: 0.9200\n",
      "Epoch 79/100\n",
      "750/750 [==============================] - 0s 39us/sample - loss: 0.1987 - accuracy: 0.9200\n",
      "Epoch 80/100\n",
      "750/750 [==============================] - 0s 37us/sample - loss: 0.1974 - accuracy: 0.9200\n",
      "Epoch 81/100\n",
      "750/750 [==============================] - 0s 37us/sample - loss: 0.1962 - accuracy: 0.9213\n",
      "Epoch 82/100\n",
      "750/750 [==============================] - 0s 36us/sample - loss: 0.1950 - accuracy: 0.9213\n",
      "Epoch 83/100\n",
      "750/750 [==============================] - 0s 35us/sample - loss: 0.1936 - accuracy: 0.9213\n",
      "Epoch 84/100\n",
      "750/750 [==============================] - 0s 36us/sample - loss: 0.1923 - accuracy: 0.9213\n",
      "Epoch 85/100\n",
      "750/750 [==============================] - 0s 35us/sample - loss: 0.1910 - accuracy: 0.9213\n",
      "Epoch 86/100\n",
      "750/750 [==============================] - 0s 35us/sample - loss: 0.1895 - accuracy: 0.9227\n",
      "Epoch 87/100\n",
      "750/750 [==============================] - 0s 34us/sample - loss: 0.1882 - accuracy: 0.9213\n",
      "Epoch 88/100\n",
      "750/750 [==============================] - 0s 36us/sample - loss: 0.1871 - accuracy: 0.9227\n",
      "Epoch 89/100\n",
      "750/750 [==============================] - 0s 39us/sample - loss: 0.1855 - accuracy: 0.9227\n",
      "Epoch 90/100\n",
      "750/750 [==============================] - 0s 36us/sample - loss: 0.1841 - accuracy: 0.9240\n",
      "Epoch 91/100\n",
      "750/750 [==============================] - 0s 37us/sample - loss: 0.1829 - accuracy: 0.9240\n",
      "Epoch 92/100\n",
      "750/750 [==============================] - 0s 36us/sample - loss: 0.1814 - accuracy: 0.9240\n",
      "Epoch 93/100\n",
      "750/750 [==============================] - 0s 35us/sample - loss: 0.1799 - accuracy: 0.9253\n",
      "Epoch 94/100\n",
      "750/750 [==============================] - 0s 35us/sample - loss: 0.1786 - accuracy: 0.9253\n",
      "Epoch 95/100\n",
      "750/750 [==============================] - 0s 36us/sample - loss: 0.1771 - accuracy: 0.9253\n",
      "Epoch 96/100\n",
      "750/750 [==============================] - 0s 34us/sample - loss: 0.1758 - accuracy: 0.9253\n",
      "Epoch 97/100\n",
      "750/750 [==============================] - 0s 35us/sample - loss: 0.1743 - accuracy: 0.9267\n",
      "Epoch 98/100\n",
      "750/750 [==============================] - 0s 40us/sample - loss: 0.1730 - accuracy: 0.9293\n",
      "Epoch 99/100\n",
      "750/750 [==============================] - 0s 37us/sample - loss: 0.1715 - accuracy: 0.9307\n",
      "Epoch 100/100\n",
      "750/750 [==============================] - 0s 37us/sample - loss: 0.1702 - accuracy: 0.9307\n"
     ]
    }
   ],
   "source": [
    "# Compile the Sequential model together and customize metrics\n",
    "new_model.compile(loss=\"binary_crossentropy\", optimizer=\"adam\", metrics=[\"accuracy\"])\n",
    "\n",
    "# Fit the model to the training data\n",
    "new_fit_model = new_model.fit(X_moon_train_scaled, y_moon_train, epochs=100, shuffle=True)\n"
   ]
  },
  {
   "cell_type": "code",
   "execution_count": null,
   "id": "e15d9cda",
   "metadata": {},
   "outputs": [],
   "source": []
  }
 ],
 "metadata": {
  "kernelspec": {
   "display_name": "Python 3 (ipykernel)",
   "language": "python",
   "name": "python3"
  },
  "language_info": {
   "codemirror_mode": {
    "name": "ipython",
    "version": 3
   },
   "file_extension": ".py",
   "mimetype": "text/x-python",
   "name": "python",
   "nbconvert_exporter": "python",
   "pygments_lexer": "ipython3",
   "version": "3.7.11"
  }
 },
 "nbformat": 4,
 "nbformat_minor": 5
}
